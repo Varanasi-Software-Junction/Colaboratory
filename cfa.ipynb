{
  "nbformat": 4,
  "nbformat_minor": 0,
  "metadata": {
    "colab": {
      "name": "cfa.ipynb",
      "provenance": [],
      "collapsed_sections": [],
      "authorship_tag": "ABX9TyNpNg2Rd5pty3ozk7WvcnBQ",
      "include_colab_link": true
    },
    "kernelspec": {
      "name": "python3",
      "display_name": "Python 3"
    },
    "language_info": {
      "name": "python"
    },
    "accelerator": "GPU"
  },
  "cells": [
    {
      "cell_type": "markdown",
      "metadata": {
        "id": "view-in-github",
        "colab_type": "text"
      },
      "source": [
        "<a href=\"https://colab.research.google.com/github/champaksworldcreate/colab/blob/main/cfa.ipynb\" target=\"_parent\"><img src=\"https://colab.research.google.com/assets/colab-badge.svg\" alt=\"Open In Colab\"/></a>"
      ]
    },
    {
      "cell_type": "code",
      "metadata": {
        "id": "ErCaTw23M0eB"
      },
      "source": [
        ""
      ],
      "execution_count": null,
      "outputs": []
    },
    {
      "cell_type": "markdown",
      "metadata": {
        "id": "i8KSOKRoNZUL"
      },
      "source": [
        "**imports**"
      ]
    },
    {
      "cell_type": "code",
      "metadata": {
        "colab": {
          "base_uri": "https://localhost:8080/",
          "height": 354
        },
        "id": "9XHy_4xNNbqT",
        "outputId": "4dcbd02e-b043-4554-ecbe-888ca9951122"
      },
      "source": [
        "import keras\n",
        "import tensorflow.compat.v1 as tf\n",
        "from IPython import display\n",
        "from keras.preprocessing.image import array_to_img\n",
        "import matplotlib.pyplot as plt\n",
        "from numpy.random import seed\n",
        "from keras.models import Sequential\n",
        "from keras.layers import Dense,Activation\n",
        "seed(888)\n",
        "tf.random.set_random_seed(404)\n",
        "from keras.datasets import cifar10\n",
        "(x_train,y_train),(x_test,y_test)=cifar10.load_data()\n",
        "print(type(x_train))\n",
        "print(x_train[0].shape)\n",
        "n,x,y,c=x_train.shape\n",
        "print(n,x,y,c)\n",
        "img =array_to_img(x_train[0])\n",
        "print( img)\n",
        "plt.imshow(img)\n",
        "\n",
        "\n",
        "\n",
        "\n",
        "\n"
      ],
      "execution_count": null,
      "outputs": [
        {
          "output_type": "stream",
          "text": [
            "<class 'numpy.ndarray'>\n",
            "(32, 32, 3)\n",
            "50000 32 32 3\n",
            "<PIL.Image.Image image mode=RGB size=32x32 at 0x7F07C55B0950>\n"
          ],
          "name": "stdout"
        },
        {
          "output_type": "execute_result",
          "data": {
            "text/plain": [
              "<matplotlib.image.AxesImage at 0x7f07c537c210>"
            ]
          },
          "metadata": {
            "tags": []
          },
          "execution_count": 4
        },
        {
          "output_type": "display_data",
          "data": {
            "image/png": "[encoded data removed]",
            "text/plain": [
              "<Figure size 432x288 with 1 Axes>"
            ]
          },
          "metadata": {
            "tags": [],
            "needs_background": "light"
          }
        }
      ]
    },
    {
      "cell_type": "code",
      "metadata": {
        "id": "RZJtb9E9NguC"
      },
      "source": [
        ""
      ],
      "execution_count": null,
      "outputs": []
    },
    {
      "cell_type": "markdown",
      "metadata": {
        "id": "08khIi_WBJE2"
      },
      "source": [
        "**Preprocess**"
      ]
    },
    {
      "cell_type": "code",
      "metadata": {
        "colab": {
          "base_uri": "https://localhost:8080/"
        },
        "id": "RK6r2gaQBMWs",
        "outputId": "4261848c-84b5-45ba-80c8-1c333671e4f0"
      },
      "source": [
        "x_train=x_train/255.0\n",
        "x_test=x_test/255\n",
        "x_train=x_train.reshape(x_train.shape[0],32*32*3)\n",
        "print(x_train.shape)\n",
        "x_test=x_test.reshape(x_test.shape[0],32*32*3)\n",
        "print(x_test.shape)"
      ],
      "execution_count": null,
      "outputs": [
        {
          "output_type": "stream",
          "text": [
            "(50000, 3072)\n",
            "(10000, 3072)\n"
          ],
          "name": "stdout"
        }
      ]
    },
    {
      "cell_type": "markdown",
      "metadata": {
        "id": "XsszWvH_GZA-"
      },
      "source": [
        "**vlidation**"
      ]
    },
    {
      "cell_type": "code",
      "metadata": {
        "colab": {
          "base_uri": "https://localhost:8080/"
        },
        "id": "0YsXFMUgGcYP",
        "outputId": "0d8a9319-12b6-4a0a-d591-44cac42ccc23"
      },
      "source": [
        "x_val=x_train[:10000]\n",
        "y_val=y_train[:10000]\n",
        "print(x_val)\n",
        "print(y_val)\n",
        "x_trn=x_train[10000:]\n",
        "y_trn=x_train[10000:]\n"
      ],
      "execution_count": null,
      "outputs": [
        {
          "output_type": "stream",
          "text": [
            "[[[[ 59  62  63]\n",
            "   [ 43  46  45]\n",
            "   [ 50  48  43]\n",
            "   ...\n",
            "   [158 132 108]\n",
            "   [152 125 102]\n",
            "   [148 124 103]]\n",
            "\n",
            "  [[ 16  20  20]\n",
            "   [  0   0   0]\n",
            "   [ 18   8   0]\n",
            "   ...\n",
            "   [123  88  55]\n",
            "   [119  83  50]\n",
            "   [122  87  57]]\n",
            "\n",
            "  [[ 25  24  21]\n",
            "   [ 16   7   0]\n",
            "   [ 49  27   8]\n",
            "   ...\n",
            "   [118  84  50]\n",
            "   [120  84  50]\n",
            "   [109  73  42]]\n",
            "\n",
            "  ...\n",
            "\n",
            "  [[208 170  96]\n",
            "   [201 153  34]\n",
            "   [198 161  26]\n",
            "   ...\n",
            "   [160 133  70]\n",
            "   [ 56  31   7]\n",
            "   [ 53  34  20]]\n",
            "\n",
            "  [[180 139  96]\n",
            "   [173 123  42]\n",
            "   [186 144  30]\n",
            "   ...\n",
            "   [184 148  94]\n",
            "   [ 97  62  34]\n",
            "   [ 83  53  34]]\n",
            "\n",
            "  [[177 144 116]\n",
            "   [168 129  94]\n",
            "   [179 142  87]\n",
            "   ...\n",
            "   [216 184 140]\n",
            "   [151 118  84]\n",
            "   [123  92  72]]]\n",
            "\n",
            "\n",
            " [[[154 177 187]\n",
            "   [126 137 136]\n",
            "   [105 104  95]\n",
            "   ...\n",
            "   [ 91  95  71]\n",
            "   [ 87  90  71]\n",
            "   [ 79  81  70]]\n",
            "\n",
            "  [[140 160 169]\n",
            "   [145 153 154]\n",
            "   [125 125 118]\n",
            "   ...\n",
            "   [ 96  99  78]\n",
            "   [ 77  80  62]\n",
            "   [ 71  73  61]]\n",
            "\n",
            "  [[140 155 164]\n",
            "   [139 146 149]\n",
            "   [115 115 112]\n",
            "   ...\n",
            "   [ 79  82  64]\n",
            "   [ 68  70  55]\n",
            "   [ 67  69  55]]\n",
            "\n",
            "  ...\n",
            "\n",
            "  [[175 167 166]\n",
            "   [156 154 160]\n",
            "   [154 160 170]\n",
            "   ...\n",
            "   [ 42  34  36]\n",
            "   [ 61  53  57]\n",
            "   [ 93  83  91]]\n",
            "\n",
            "  [[165 154 128]\n",
            "   [156 152 130]\n",
            "   [159 161 142]\n",
            "   ...\n",
            "   [103  93  96]\n",
            "   [123 114 120]\n",
            "   [131 121 131]]\n",
            "\n",
            "  [[163 148 120]\n",
            "   [158 148 122]\n",
            "   [163 156 133]\n",
            "   ...\n",
            "   [143 133 139]\n",
            "   [143 134 142]\n",
            "   [143 133 144]]]\n",
            "\n",
            "\n",
            " [[[255 255 255]\n",
            "   [253 253 253]\n",
            "   [253 253 253]\n",
            "   ...\n",
            "   [253 253 253]\n",
            "   [253 253 253]\n",
            "   [253 253 253]]\n",
            "\n",
            "  [[255 255 255]\n",
            "   [255 255 255]\n",
            "   [255 255 255]\n",
            "   ...\n",
            "   [255 255 255]\n",
            "   [255 255 255]\n",
            "   [255 255 255]]\n",
            "\n",
            "  [[255 255 255]\n",
            "   [254 254 254]\n",
            "   [254 254 254]\n",
            "   ...\n",
            "   [254 254 254]\n",
            "   [254 254 254]\n",
            "   [254 254 254]]\n",
            "\n",
            "  ...\n",
            "\n",
            "  [[113 120 112]\n",
            "   [111 118 111]\n",
            "   [105 112 106]\n",
            "   ...\n",
            "   [ 72  81  80]\n",
            "   [ 72  80  79]\n",
            "   [ 72  80  79]]\n",
            "\n",
            "  [[111 118 110]\n",
            "   [104 111 104]\n",
            "   [ 99 106  98]\n",
            "   ...\n",
            "   [ 68  75  73]\n",
            "   [ 70  76  75]\n",
            "   [ 78  84  82]]\n",
            "\n",
            "  [[106 113 105]\n",
            "   [ 99 106  98]\n",
            "   [ 95 102  94]\n",
            "   ...\n",
            "   [ 78  85  83]\n",
            "   [ 79  85  83]\n",
            "   [ 80  86  84]]]\n",
            "\n",
            "\n",
            " ...\n",
            "\n",
            "\n",
            " [[[ 71  77  44]\n",
            "   [ 60  69  35]\n",
            "   [ 74  83  56]\n",
            "   ...\n",
            "   [251 251 253]\n",
            "   [255 255 255]\n",
            "   [191 192 186]]\n",
            "\n",
            "  [[ 89  96  62]\n",
            "   [ 80  89  58]\n",
            "   [ 67  77  51]\n",
            "   ...\n",
            "   [250 248 249]\n",
            "   [255 254 254]\n",
            "   [181 181 170]]\n",
            "\n",
            "  [[ 74  80  46]\n",
            "   [ 69  77  50]\n",
            "   [ 68  77  53]\n",
            "   ...\n",
            "   [246 245 248]\n",
            "   [254 254 254]\n",
            "   [193 195 183]]\n",
            "\n",
            "  ...\n",
            "\n",
            "  [[ 84  85  84]\n",
            "   [ 80  81  81]\n",
            "   [ 80  80  80]\n",
            "   ...\n",
            "   [ 41  43  48]\n",
            "   [ 55  55  59]\n",
            "   [ 61  62  63]]\n",
            "\n",
            "  [[ 67  66  67]\n",
            "   [ 65  64  64]\n",
            "   [ 62  61  61]\n",
            "   ...\n",
            "   [ 63  63  65]\n",
            "   [ 68  66  67]\n",
            "   [ 71  70  67]]\n",
            "\n",
            "  [[ 66  43  28]\n",
            "   [ 66  44  28]\n",
            "   [ 65  42  27]\n",
            "   ...\n",
            "   [ 80  73  68]\n",
            "   [ 83  75  69]\n",
            "   [ 84  77  68]]]\n",
            "\n",
            "\n",
            " [[[250 255 255]\n",
            "   [254 253 254]\n",
            "   [211 224 220]\n",
            "   ...\n",
            "   [188 195 193]\n",
            "   [255 255 255]\n",
            "   [255 254 255]]\n",
            "\n",
            "  [[250 255 255]\n",
            "   [255 254 255]\n",
            "   [213 225 222]\n",
            "   ...\n",
            "   [189 198 195]\n",
            "   [255 255 255]\n",
            "   [255 254 255]]\n",
            "\n",
            "  [[250 255 255]\n",
            "   [255 254 255]\n",
            "   [213 226 222]\n",
            "   ...\n",
            "   [186 198 194]\n",
            "   [255 255 255]\n",
            "   [255 254 255]]\n",
            "\n",
            "  ...\n",
            "\n",
            "  [[255 254 255]\n",
            "   [254 254 255]\n",
            "   [213 224 221]\n",
            "   ...\n",
            "   [211 211 215]\n",
            "   [255 255 255]\n",
            "   [255 254 254]]\n",
            "\n",
            "  [[255 254 255]\n",
            "   [252 253 253]\n",
            "   [217 225 222]\n",
            "   ...\n",
            "   [214 213 216]\n",
            "   [255 255 255]\n",
            "   [255 254 254]]\n",
            "\n",
            "  [[255 254 255]\n",
            "   [253 253 253]\n",
            "   [218 221 220]\n",
            "   ...\n",
            "   [214 212 215]\n",
            "   [255 255 255]\n",
            "   [255 254 254]]]\n",
            "\n",
            "\n",
            " [[[ 62  55   7]\n",
            "   [ 61  55   7]\n",
            "   [ 60  55   6]\n",
            "   ...\n",
            "   [ 64  58  10]\n",
            "   [ 82  75  28]\n",
            "   [ 62  55   9]]\n",
            "\n",
            "  [[ 62  56   7]\n",
            "   [ 63  52   8]\n",
            "   [ 61  48   6]\n",
            "   ...\n",
            "   [ 77  69  28]\n",
            "   [114 107  65]\n",
            "   [ 64  57  12]]\n",
            "\n",
            "  [[ 67  59  15]\n",
            "   [ 78  62  28]\n",
            "   [115  93  66]\n",
            "   ...\n",
            "   [100  92  58]\n",
            "   [119 111  74]\n",
            "   [ 63  56  12]]\n",
            "\n",
            "  ...\n",
            "\n",
            "  [[161 192 125]\n",
            "   [159 190 123]\n",
            "   [159 190 123]\n",
            "   ...\n",
            "   [152 167 123]\n",
            "   [157 190 128]\n",
            "   [156 192 123]]\n",
            "\n",
            "  [[163 195 127]\n",
            "   [161 192 125]\n",
            "   [162 193 126]\n",
            "   ...\n",
            "   [162 191 128]\n",
            "   [161 193 127]\n",
            "   [161 193 126]]\n",
            "\n",
            "  [[169 201 132]\n",
            "   [167 198 130]\n",
            "   [167 198 131]\n",
            "   ...\n",
            "   [167 198 130]\n",
            "   [167 198 130]\n",
            "   [167 198 131]]]]\n",
            "[[6]\n",
            " [9]\n",
            " [9]\n",
            " ...\n",
            " [1]\n",
            " [1]\n",
            " [5]]\n"
          ],
          "name": "stdout"
        }
      ]
    },
    {
      "cell_type": "code",
      "metadata": {
        "id": "2GxT565OHXpn"
      },
      "source": [
        ""
      ],
      "execution_count": null,
      "outputs": []
    },
    {
      "cell_type": "markdown",
      "metadata": {
        "id": "NRChtrYoI9Kc"
      },
      "source": [
        "**Training**"
      ]
    },
    {
      "cell_type": "code",
      "metadata": {
        "id": "LKdVszbJJARr"
      },
      "source": [
        "model1=Sequential[Dense(units=128,input_dim=3072,activation='relu')]"
      ],
      "execution_count": null,
      "outputs": []
    }
  ]
}